{
 "cells": [
  {
   "cell_type": "code",
   "execution_count": 1,
   "metadata": {
    "collapsed": true
   },
   "outputs": [],
   "source": [
    "import numpy as np\n",
    "import pandas as pd\n",
    "import pickle\n",
    "import matplotlib.pyplot as plt"
   ]
  },
  {
   "cell_type": "code",
   "execution_count": 2,
   "metadata": {
    "collapsed": true
   },
   "outputs": [],
   "source": [
    "df = pd.read_csv('data/train.csv')\n",
    "df = df.drop('id', axis=1)\n",
    "target = df['target'].as_matrix()\n",
    "\n",
    "df_test = pd.read_csv('data/test.csv')\n",
    "df_test = df_test"
   ]
  },
  {
   "cell_type": "code",
   "execution_count": 3,
   "metadata": {},
   "outputs": [
    {
     "data": {
      "text/plain": [
       "(595212, 58)"
      ]
     },
     "execution_count": 3,
     "metadata": {},
     "output_type": "execute_result"
    }
   ],
   "source": [
    "df.shape"
   ]
  },
  {
   "cell_type": "code",
   "execution_count": 4,
   "metadata": {},
   "outputs": [
    {
     "data": {
      "text/html": [
       "<div>\n",
       "<style>\n",
       "    .dataframe thead tr:only-child th {\n",
       "        text-align: right;\n",
       "    }\n",
       "\n",
       "    .dataframe thead th {\n",
       "        text-align: left;\n",
       "    }\n",
       "\n",
       "    .dataframe tbody tr th {\n",
       "        vertical-align: top;\n",
       "    }\n",
       "</style>\n",
       "<table border=\"1\" class=\"dataframe\">\n",
       "  <thead>\n",
       "    <tr style=\"text-align: right;\">\n",
       "      <th></th>\n",
       "      <th>target</th>\n",
       "      <th>ps_ind_01</th>\n",
       "      <th>ps_ind_02_cat</th>\n",
       "      <th>ps_ind_03</th>\n",
       "      <th>ps_ind_04_cat</th>\n",
       "      <th>ps_ind_05_cat</th>\n",
       "      <th>ps_ind_06_bin</th>\n",
       "      <th>ps_ind_07_bin</th>\n",
       "      <th>ps_ind_08_bin</th>\n",
       "      <th>ps_ind_09_bin</th>\n",
       "      <th>...</th>\n",
       "      <th>ps_calc_11</th>\n",
       "      <th>ps_calc_12</th>\n",
       "      <th>ps_calc_13</th>\n",
       "      <th>ps_calc_14</th>\n",
       "      <th>ps_calc_15_bin</th>\n",
       "      <th>ps_calc_16_bin</th>\n",
       "      <th>ps_calc_17_bin</th>\n",
       "      <th>ps_calc_18_bin</th>\n",
       "      <th>ps_calc_19_bin</th>\n",
       "      <th>ps_calc_20_bin</th>\n",
       "    </tr>\n",
       "  </thead>\n",
       "  <tbody>\n",
       "    <tr>\n",
       "      <th>0</th>\n",
       "      <td>0</td>\n",
       "      <td>2</td>\n",
       "      <td>2</td>\n",
       "      <td>5</td>\n",
       "      <td>1</td>\n",
       "      <td>0</td>\n",
       "      <td>0</td>\n",
       "      <td>1</td>\n",
       "      <td>0</td>\n",
       "      <td>0</td>\n",
       "      <td>...</td>\n",
       "      <td>9</td>\n",
       "      <td>1</td>\n",
       "      <td>5</td>\n",
       "      <td>8</td>\n",
       "      <td>0</td>\n",
       "      <td>1</td>\n",
       "      <td>1</td>\n",
       "      <td>0</td>\n",
       "      <td>0</td>\n",
       "      <td>1</td>\n",
       "    </tr>\n",
       "    <tr>\n",
       "      <th>1</th>\n",
       "      <td>0</td>\n",
       "      <td>1</td>\n",
       "      <td>1</td>\n",
       "      <td>7</td>\n",
       "      <td>0</td>\n",
       "      <td>0</td>\n",
       "      <td>0</td>\n",
       "      <td>0</td>\n",
       "      <td>1</td>\n",
       "      <td>0</td>\n",
       "      <td>...</td>\n",
       "      <td>3</td>\n",
       "      <td>1</td>\n",
       "      <td>1</td>\n",
       "      <td>9</td>\n",
       "      <td>0</td>\n",
       "      <td>1</td>\n",
       "      <td>1</td>\n",
       "      <td>0</td>\n",
       "      <td>1</td>\n",
       "      <td>0</td>\n",
       "    </tr>\n",
       "    <tr>\n",
       "      <th>2</th>\n",
       "      <td>0</td>\n",
       "      <td>5</td>\n",
       "      <td>4</td>\n",
       "      <td>9</td>\n",
       "      <td>1</td>\n",
       "      <td>0</td>\n",
       "      <td>0</td>\n",
       "      <td>0</td>\n",
       "      <td>1</td>\n",
       "      <td>0</td>\n",
       "      <td>...</td>\n",
       "      <td>4</td>\n",
       "      <td>2</td>\n",
       "      <td>7</td>\n",
       "      <td>7</td>\n",
       "      <td>0</td>\n",
       "      <td>1</td>\n",
       "      <td>1</td>\n",
       "      <td>0</td>\n",
       "      <td>1</td>\n",
       "      <td>0</td>\n",
       "    </tr>\n",
       "    <tr>\n",
       "      <th>3</th>\n",
       "      <td>0</td>\n",
       "      <td>0</td>\n",
       "      <td>1</td>\n",
       "      <td>2</td>\n",
       "      <td>0</td>\n",
       "      <td>0</td>\n",
       "      <td>1</td>\n",
       "      <td>0</td>\n",
       "      <td>0</td>\n",
       "      <td>0</td>\n",
       "      <td>...</td>\n",
       "      <td>2</td>\n",
       "      <td>2</td>\n",
       "      <td>4</td>\n",
       "      <td>9</td>\n",
       "      <td>0</td>\n",
       "      <td>0</td>\n",
       "      <td>0</td>\n",
       "      <td>0</td>\n",
       "      <td>0</td>\n",
       "      <td>0</td>\n",
       "    </tr>\n",
       "    <tr>\n",
       "      <th>4</th>\n",
       "      <td>0</td>\n",
       "      <td>0</td>\n",
       "      <td>2</td>\n",
       "      <td>0</td>\n",
       "      <td>1</td>\n",
       "      <td>0</td>\n",
       "      <td>1</td>\n",
       "      <td>0</td>\n",
       "      <td>0</td>\n",
       "      <td>0</td>\n",
       "      <td>...</td>\n",
       "      <td>3</td>\n",
       "      <td>1</td>\n",
       "      <td>1</td>\n",
       "      <td>3</td>\n",
       "      <td>0</td>\n",
       "      <td>0</td>\n",
       "      <td>0</td>\n",
       "      <td>1</td>\n",
       "      <td>1</td>\n",
       "      <td>0</td>\n",
       "    </tr>\n",
       "    <tr>\n",
       "      <th>5</th>\n",
       "      <td>0</td>\n",
       "      <td>5</td>\n",
       "      <td>1</td>\n",
       "      <td>4</td>\n",
       "      <td>0</td>\n",
       "      <td>0</td>\n",
       "      <td>0</td>\n",
       "      <td>0</td>\n",
       "      <td>0</td>\n",
       "      <td>1</td>\n",
       "      <td>...</td>\n",
       "      <td>4</td>\n",
       "      <td>2</td>\n",
       "      <td>0</td>\n",
       "      <td>9</td>\n",
       "      <td>0</td>\n",
       "      <td>1</td>\n",
       "      <td>0</td>\n",
       "      <td>1</td>\n",
       "      <td>1</td>\n",
       "      <td>1</td>\n",
       "    </tr>\n",
       "    <tr>\n",
       "      <th>6</th>\n",
       "      <td>0</td>\n",
       "      <td>2</td>\n",
       "      <td>1</td>\n",
       "      <td>3</td>\n",
       "      <td>1</td>\n",
       "      <td>0</td>\n",
       "      <td>0</td>\n",
       "      <td>1</td>\n",
       "      <td>0</td>\n",
       "      <td>0</td>\n",
       "      <td>...</td>\n",
       "      <td>3</td>\n",
       "      <td>0</td>\n",
       "      <td>0</td>\n",
       "      <td>10</td>\n",
       "      <td>0</td>\n",
       "      <td>1</td>\n",
       "      <td>0</td>\n",
       "      <td>0</td>\n",
       "      <td>1</td>\n",
       "      <td>0</td>\n",
       "    </tr>\n",
       "    <tr>\n",
       "      <th>7</th>\n",
       "      <td>0</td>\n",
       "      <td>5</td>\n",
       "      <td>1</td>\n",
       "      <td>4</td>\n",
       "      <td>0</td>\n",
       "      <td>0</td>\n",
       "      <td>1</td>\n",
       "      <td>0</td>\n",
       "      <td>0</td>\n",
       "      <td>0</td>\n",
       "      <td>...</td>\n",
       "      <td>7</td>\n",
       "      <td>1</td>\n",
       "      <td>3</td>\n",
       "      <td>6</td>\n",
       "      <td>1</td>\n",
       "      <td>0</td>\n",
       "      <td>1</td>\n",
       "      <td>0</td>\n",
       "      <td>1</td>\n",
       "      <td>0</td>\n",
       "    </tr>\n",
       "    <tr>\n",
       "      <th>8</th>\n",
       "      <td>0</td>\n",
       "      <td>5</td>\n",
       "      <td>1</td>\n",
       "      <td>3</td>\n",
       "      <td>1</td>\n",
       "      <td>0</td>\n",
       "      <td>0</td>\n",
       "      <td>0</td>\n",
       "      <td>1</td>\n",
       "      <td>0</td>\n",
       "      <td>...</td>\n",
       "      <td>4</td>\n",
       "      <td>2</td>\n",
       "      <td>1</td>\n",
       "      <td>5</td>\n",
       "      <td>0</td>\n",
       "      <td>1</td>\n",
       "      <td>0</td>\n",
       "      <td>0</td>\n",
       "      <td>0</td>\n",
       "      <td>1</td>\n",
       "    </tr>\n",
       "    <tr>\n",
       "      <th>9</th>\n",
       "      <td>1</td>\n",
       "      <td>1</td>\n",
       "      <td>1</td>\n",
       "      <td>2</td>\n",
       "      <td>0</td>\n",
       "      <td>0</td>\n",
       "      <td>0</td>\n",
       "      <td>1</td>\n",
       "      <td>0</td>\n",
       "      <td>0</td>\n",
       "      <td>...</td>\n",
       "      <td>3</td>\n",
       "      <td>5</td>\n",
       "      <td>0</td>\n",
       "      <td>6</td>\n",
       "      <td>0</td>\n",
       "      <td>1</td>\n",
       "      <td>0</td>\n",
       "      <td>0</td>\n",
       "      <td>1</td>\n",
       "      <td>0</td>\n",
       "    </tr>\n",
       "  </tbody>\n",
       "</table>\n",
       "<p>10 rows × 58 columns</p>\n",
       "</div>"
      ],
      "text/plain": [
       "   target  ps_ind_01  ps_ind_02_cat  ps_ind_03  ps_ind_04_cat  ps_ind_05_cat  \\\n",
       "0       0          2              2          5              1              0   \n",
       "1       0          1              1          7              0              0   \n",
       "2       0          5              4          9              1              0   \n",
       "3       0          0              1          2              0              0   \n",
       "4       0          0              2          0              1              0   \n",
       "5       0          5              1          4              0              0   \n",
       "6       0          2              1          3              1              0   \n",
       "7       0          5              1          4              0              0   \n",
       "8       0          5              1          3              1              0   \n",
       "9       1          1              1          2              0              0   \n",
       "\n",
       "   ps_ind_06_bin  ps_ind_07_bin  ps_ind_08_bin  ps_ind_09_bin       ...        \\\n",
       "0              0              1              0              0       ...         \n",
       "1              0              0              1              0       ...         \n",
       "2              0              0              1              0       ...         \n",
       "3              1              0              0              0       ...         \n",
       "4              1              0              0              0       ...         \n",
       "5              0              0              0              1       ...         \n",
       "6              0              1              0              0       ...         \n",
       "7              1              0              0              0       ...         \n",
       "8              0              0              1              0       ...         \n",
       "9              0              1              0              0       ...         \n",
       "\n",
       "   ps_calc_11  ps_calc_12  ps_calc_13  ps_calc_14  ps_calc_15_bin  \\\n",
       "0           9           1           5           8               0   \n",
       "1           3           1           1           9               0   \n",
       "2           4           2           7           7               0   \n",
       "3           2           2           4           9               0   \n",
       "4           3           1           1           3               0   \n",
       "5           4           2           0           9               0   \n",
       "6           3           0           0          10               0   \n",
       "7           7           1           3           6               1   \n",
       "8           4           2           1           5               0   \n",
       "9           3           5           0           6               0   \n",
       "\n",
       "   ps_calc_16_bin  ps_calc_17_bin  ps_calc_18_bin  ps_calc_19_bin  \\\n",
       "0               1               1               0               0   \n",
       "1               1               1               0               1   \n",
       "2               1               1               0               1   \n",
       "3               0               0               0               0   \n",
       "4               0               0               1               1   \n",
       "5               1               0               1               1   \n",
       "6               1               0               0               1   \n",
       "7               0               1               0               1   \n",
       "8               1               0               0               0   \n",
       "9               1               0               0               1   \n",
       "\n",
       "   ps_calc_20_bin  \n",
       "0               1  \n",
       "1               0  \n",
       "2               0  \n",
       "3               0  \n",
       "4               0  \n",
       "5               1  \n",
       "6               0  \n",
       "7               0  \n",
       "8               1  \n",
       "9               0  \n",
       "\n",
       "[10 rows x 58 columns]"
      ]
     },
     "execution_count": 4,
     "metadata": {},
     "output_type": "execute_result"
    }
   ],
   "source": [
    "df.head(10)"
   ]
  },
  {
   "cell_type": "code",
   "execution_count": 5,
   "metadata": {
    "collapsed": true
   },
   "outputs": [],
   "source": [
    "#Load preprocessed train & test data\n",
    "file = open('data/Preprocessing/train.pickle','rb')\n",
    "train = pickle.load(file)\n",
    "file.close()\n",
    "\n",
    "file = open('data/Preprocessing/test.pickle','rb')\n",
    "test = pickle.load(file)\n",
    "file.close()"
   ]
  },
  {
   "cell_type": "code",
   "execution_count": 6,
   "metadata": {},
   "outputs": [
    {
     "data": {
      "text/plain": [
       "array([ 0.65709588, -0.09692766, -0.40939659, -1.09296641, -0.86579976,\n",
       "        0.31914093, -0.84282019, -0.52143981, -1.21853419, -0.5218435 ,\n",
       "       -0.45386836,  0.95436209, -0.09762076, -1.2125985 ,  0.78546597,\n",
       "       -0.33304232, -0.78056715,  0.98219591,  1.40974797, -0.83984995,\n",
       "       -1.07384887, -0.49355939, -1.0465148 , -0.36735853, -1.10466907,\n",
       "        0.53191121, -1.33359424,  1.48047311, -2.08037673,  0.48136447,\n",
       "       -1.11557957,  1.31594414,  0.31127389,  0.44570196, -1.05732445,\n",
       "       -0.66202185, -0.76327648, -0.43861111,  0.44323087,  1.57601059,\n",
       "        1.28702118, -0.83353028, -0.40711306,  0.38459494,  1.12703744,\n",
       "       -1.01288793, -2.74306524, -1.20039924, -0.63608443, -0.47414534,\n",
       "       -0.53164993,  0.66025654, -1.62167153, -0.78436705,  0.46654456,\n",
       "       -0.40482082, -0.54598599, -0.20359732])"
      ]
     },
     "execution_count": 6,
     "metadata": {},
     "output_type": "execute_result"
    }
   ],
   "source": [
    "train[1]"
   ]
  },
  {
   "cell_type": "code",
   "execution_count": 7,
   "metadata": {},
   "outputs": [
    {
     "name": "stdout",
     "output_type": "stream",
     "text": [
      "Train: (595212, 58)\n",
      "Test: (892816, 58)\n",
      "===Training Set===\n",
      "0    573518\n",
      "1     21694\n",
      "Name: target, dtype: int64\n",
      "0 (%): 96.3552482141\n",
      "1 (%): 3.64475178592\n"
     ]
    }
   ],
   "source": [
    "print(\"Train: \"+str(train.shape))\n",
    "print(\"Test: \"+str(test.shape))\n",
    "print(\"===Training Set===\\n\"+str(df['target'].value_counts()))\n",
    "print(\"0 (%): \" +str((df['target'].value_counts()[0])/train.shape[0]*100))\n",
    "print(\"1 (%): \" +str((df['target'].value_counts()[1])/train.shape[0]*100))"
   ]
  },
  {
   "cell_type": "code",
   "execution_count": 8,
   "metadata": {
    "collapsed": true
   },
   "outputs": [],
   "source": [
    "np.random.seed(70)\n",
    "rand_idx = np.random.choice(len(train),int(0.05*len(train)))\n",
    "x_val = train[rand_idx]\n",
    "y_val = target[rand_idx]\n",
    "x_train = np.delete(train,rand_idx,0)\n",
    "y_train = np.delete(target,rand_idx,0)\n",
    "x_test = test"
   ]
  },
  {
   "cell_type": "code",
   "execution_count": 9,
   "metadata": {},
   "outputs": [
    {
     "name": "stdout",
     "output_type": "stream",
     "text": [
      "Train data shape:  (566176, 58)\n",
      "Train labels shape:  (566176,)\n",
      "Validation data shape:  (29760, 58)\n",
      "Validation labels shape:  (29760,)\n",
      "Test data shape:  (892816, 58)\n",
      "==================================\n",
      "> Train\n",
      "{0: 545540, 1: 20636}\n",
      "0 (%): 96.3551969706\n",
      "1 (%): 3.64480302945\n",
      "> Validate\n",
      "{0: 28670, 1: 1090}\n",
      "0 (%): 96.3373655914\n",
      "1 (%): 3.6626344086\n"
     ]
    }
   ],
   "source": [
    "print('Train data shape: ', x_train.shape)\n",
    "print('Train labels shape: ', y_train.shape)\n",
    "print('Validation data shape: ', x_val.shape)\n",
    "print('Validation labels shape: ', y_val.shape)\n",
    "print('Test data shape: ', x_test.shape)\n",
    "print(\"==================================\")\n",
    "print(\"> Train\")\n",
    "unique, counts = np.unique(y_train, return_counts=True)\n",
    "print(dict(zip(unique, counts)))\n",
    "print(\"0 (%): \"+str(counts[0]/y_train.shape[0]*100))\n",
    "print(\"1 (%): \"+str(counts[1]/y_train.shape[0]*100))\n",
    "print(\"> Validate\")\n",
    "unique, counts = np.unique(y_val, return_counts=True)\n",
    "print(dict(zip(unique, counts)))\n",
    "print(\"0 (%): \"+str(counts[0]/y_val.shape[0]*100))\n",
    "print(\"1 (%): \"+str(counts[1]/y_val.shape[0]*100))"
   ]
  },
  {
   "cell_type": "code",
   "execution_count": 10,
   "metadata": {
    "collapsed": true
   },
   "outputs": [],
   "source": [
    "## Pre-defined Function\n",
    "def plot_model_history(model_history):\n",
    "    fig, axs = plt.subplots(1,2,figsize=(15,5))\n",
    "    # summarize history for accuracy\n",
    "    axs[0].plot(range(1,len(model_history.history['acc'])+1),model_history.history['acc'])\n",
    "    axs[0].plot(range(1,len(model_history.history['val_acc'])+1),model_history.history['val_acc'])\n",
    "    axs[0].set_title('Model Accuracy')\n",
    "    axs[0].set_ylabel('Accuracy')\n",
    "    axs[0].set_xlabel('Epoch')\n",
    "    axs[0].set_xticks(np.arange(1,len(model_history.history['acc'])+1),len(model_history.history['acc'])/10)\n",
    "    axs[0].legend(['train', 'val'], loc='best')\n",
    "    # summarize history for loss\n",
    "    axs[1].plot(range(1,len(model_history.history['loss'])+1),model_history.history['loss'])\n",
    "    axs[1].plot(range(1,len(model_history.history['val_loss'])+1),model_history.history['val_loss'])\n",
    "    axs[1].set_title('Model Loss')\n",
    "    axs[1].set_ylabel('Loss')\n",
    "    axs[1].set_xlabel('Epoch')\n",
    "    axs[1].set_xticks(np.arange(1,len(model_history.history['loss'])+1),len(model_history.history['loss'])/10)\n",
    "    axs[1].legend(['train', 'val'], loc='best')\n",
    "    plt.show()"
   ]
  },
  {
   "cell_type": "markdown",
   "metadata": {},
   "source": [
    "## Modeling"
   ]
  },
  {
   "cell_type": "code",
   "execution_count": 12,
   "metadata": {},
   "outputs": [
    {
     "name": "stderr",
     "output_type": "stream",
     "text": [
      "Using TensorFlow backend.\n"
     ]
    }
   ],
   "source": [
    "from keras.models import Model\n",
    "from keras.layers import Input, Dense, Dropout\n",
    "from keras.optimizers import Adam\n",
    "from keras.callbacks import ModelCheckpoint\n",
    "import keras.backend as K\n",
    "import tensorflow as tf\n",
    "from sklearn.utils import class_weight"
   ]
  },
  {
   "cell_type": "code",
   "execution_count": 41,
   "metadata": {
    "collapsed": true
   },
   "outputs": [],
   "source": [
    "def binary_crossentropy_with_ranking(y_true, y_pred):\n",
    "    \"\"\" Trying to combine ranking loss with numeric precision\"\"\"\n",
    "    # first get the log loss like normal\n",
    "    logloss = K.mean(K.binary_crossentropy(y_true, y_pred), axis=-1)\n",
    "    \n",
    "    # next, build a rank loss\n",
    "    \n",
    "    # clip the probabilities to keep stability\n",
    "    y_pred_clipped = K.clip(y_pred, K.epsilon(), 1-K.epsilon())\n",
    "\n",
    "    # translate into the raw scores before the logit\n",
    "    y_pred_score = K.log(y_pred_clipped / (1 - y_pred_clipped))\n",
    "\n",
    "    # determine what the maximum score for a zero outcome is\n",
    "    y_pred_score_zerooutcome_max = K.max(y_pred_score * tf.cast((y_true <1), tf.float32))\n",
    "#     y_pred_score_zerooutcome_max = K.max(y_pred_score * (y_true <1))\n",
    "\n",
    "    # determine how much each score is above or below it\n",
    "    rankloss = y_pred_score - y_pred_score_zerooutcome_max\n",
    "\n",
    "    # only keep losses for positive outcomes\n",
    "    rankloss = tf.cast(rankloss * y_true, tf.float32)\n",
    "\n",
    "    # only keep losses where the score is below the max\n",
    "    rankloss = K.square(K.clip(rankloss, -100, 0))\n",
    "\n",
    "    # average the loss for just the positive outcomes\n",
    "    rankloss = K.sum(rankloss, axis=-1) / (K.sum(tf.cast((y_true > 0),tf.float32)) + 1)\n",
    "\n",
    "    # return (rankloss + 1) * logloss - an alternative to try\n",
    "    return rankloss + logloss"
   ]
  },
  {
   "cell_type": "code",
   "execution_count": 157,
   "metadata": {
    "collapsed": true
   },
   "outputs": [],
   "source": [
    "def get_feedforward_nn():\n",
    "    input1 = Input(shape=(58,))\n",
    "    x = Dense(40, activation='relu')(input1)\n",
    "#     x = Dropout(0.2)(x)\n",
    "#     x = Dense(70, activation='relu')(x)\n",
    "#     x = Dropout(0.2)(x)\n",
    "#     x = Dense(30, activation='relu')(x)\n",
    "    out = Dense(1,activation='sigmoid')(x)\n",
    "    model = Model(inputs=input1, outputs=out)\n",
    "    model.compile(optimizer=Adam(lr=0.003,decay=0.004),\n",
    "                loss=binary_crossentropy_with_ranking,\n",
    "                metrics=['acc'])\n",
    "    return model"
   ]
  },
  {
   "cell_type": "code",
   "execution_count": 74,
   "metadata": {
    "collapsed": true
   },
   "outputs": [],
   "source": [
    "# Path to save model parameters\n",
    "weight_path_feedforward_nn='model/model_weight_feedforward_nn2.h5'\n",
    "\n",
    "# Training callbacks list\n",
    "callbacks_list_feedforward_nn = [\n",
    "        ModelCheckpoint(\n",
    "            weight_path_feedforward_nn,\n",
    "            save_best_only=True,\n",
    "            save_weights_only=True,\n",
    "            monitor='val_loss',\n",
    "            mode='min',\n",
    "            verbose=1\n",
    "        )\n",
    "  ]"
   ]
  },
  {
   "cell_type": "code",
   "execution_count": 166,
   "metadata": {},
   "outputs": [
    {
     "data": {
      "text/plain": [
       "{0: 1.0638297872340425, 1: 16.666666666666668}"
      ]
     },
     "execution_count": 166,
     "metadata": {},
     "output_type": "execute_result"
    }
   ],
   "source": [
    "#compute class weight\n",
    "class_w = class_weight.compute_class_weight('balanced', np.unique(y_train), y_train)\n",
    "# weight = {\n",
    "#     0:class_w[0],\n",
    "#     1:class_w[1]\n",
    "# }\n",
    "weight = {\n",
    "    0:100/94,\n",
    "    1:100/6\n",
    "}\n",
    "weight"
   ]
  },
  {
   "cell_type": "code",
   "execution_count": 167,
   "metadata": {
    "scrolled": true
   },
   "outputs": [
    {
     "name": "stdout",
     "output_type": "stream",
     "text": [
      "Compile Model\n"
     ]
    }
   ],
   "source": [
    "print('Compile Model')\n",
    "verbose = 1\n",
    "model_feedforward_nn = get_feedforward_nn()\n",
    "time = 0"
   ]
  },
  {
   "cell_type": "code",
   "execution_count": 168,
   "metadata": {},
   "outputs": [
    {
     "name": "stdout",
     "output_type": "stream",
     "text": [
      "Start Time = 0\n",
      "train with 15 epochs and 8192 batch size\n",
      "Train on 566176 samples, validate on 29760 samples\n",
      "Epoch 1/15\n",
      "548864/566176 [============================>.] - ETA: 0s - loss: 10.4281 - acc: 0.8784Epoch 00000: val_loss did not improve\n",
      "566176/566176 [==============================] - 2s - loss: 10.4191 - acc: 0.8807 - val_loss: 1.3613 - val_acc: 0.9531\n",
      "Epoch 2/15\n",
      "548864/566176 [============================>.] - ETA: 0s - loss: 9.7065 - acc: 0.9567Epoch 00001: val_loss did not improve\n",
      "566176/566176 [==============================] - 1s - loss: 9.7167 - acc: 0.9565 - val_loss: 1.2351 - val_acc: 0.9491\n",
      "Epoch 3/15\n",
      "565248/566176 [============================>.] - ETA: 0s - loss: 9.6754 - acc: 0.9473Epoch 00002: val_loss did not improve\n",
      "566176/566176 [==============================] - 1s - loss: 9.6741 - acc: 0.9473 - val_loss: 1.3009 - val_acc: 0.9424\n",
      "Epoch 4/15\n",
      "548864/566176 [============================>.] - ETA: 0s - loss: 9.6347 - acc: 0.9428Epoch 00003: val_loss did not improve\n",
      "566176/566176 [==============================] - 1s - loss: 9.6463 - acc: 0.9429 - val_loss: 1.3110 - val_acc: 0.9402\n",
      "Epoch 5/15\n",
      "548864/566176 [============================>.] - ETA: 0s - loss: 9.6179 - acc: 0.9419Epoch 00004: val_loss did not improve\n",
      "566176/566176 [==============================] - 1s - loss: 9.6271 - acc: 0.9416 - val_loss: 1.4184 - val_acc: 0.9334\n",
      "Epoch 6/15\n",
      "548864/566176 [============================>.] - ETA: 0s - loss: 9.6312 - acc: 0.9367Epoch 00005: val_loss did not improve\n",
      "566176/566176 [==============================] - 1s - loss: 9.6117 - acc: 0.9366 - val_loss: 1.4588 - val_acc: 0.9308\n",
      "Epoch 7/15\n",
      "565248/566176 [============================>.] - ETA: 0s - loss: 9.5898 - acc: 0.9346Epoch 00006: val_loss did not improve\n",
      "566176/566176 [==============================] - 1s - loss: 9.5971 - acc: 0.9346 - val_loss: 1.4214 - val_acc: 0.9330\n",
      "Epoch 8/15\n",
      "565248/566176 [============================>.] - ETA: 0s - loss: 9.5850 - acc: 0.9354Epoch 00007: val_loss did not improve\n",
      "566176/566176 [==============================] - 1s - loss: 9.5866 - acc: 0.9354 - val_loss: 1.4949 - val_acc: 0.9286\n",
      "Epoch 9/15\n",
      "557056/566176 [============================>.] - ETA: 0s - loss: 9.5716 - acc: 0.9333Epoch 00008: val_loss did not improve\n",
      "566176/566176 [==============================] - 1s - loss: 9.5755 - acc: 0.9333 - val_loss: 1.5025 - val_acc: 0.9275\n",
      "Epoch 10/15\n",
      "565248/566176 [============================>.] - ETA: 0s - loss: 9.5664 - acc: 0.9300Epoch 00009: val_loss did not improve\n",
      "566176/566176 [==============================] - 1s - loss: 9.5648 - acc: 0.9300 - val_loss: 1.4952 - val_acc: 0.9281\n",
      "Epoch 11/15\n",
      "565248/566176 [============================>.] - ETA: 0s - loss: 9.5552 - acc: 0.9311Epoch 00010: val_loss did not improve\n",
      "566176/566176 [==============================] - 1s - loss: 9.5566 - acc: 0.9311 - val_loss: 1.4876 - val_acc: 0.9283\n",
      "Epoch 12/15\n",
      "548864/566176 [============================>.] - ETA: 0s - loss: 9.5318 - acc: 0.9302Epoch 00011: val_loss did not improve\n",
      "566176/566176 [==============================] - 1s - loss: 9.5485 - acc: 0.9302 - val_loss: 1.5037 - val_acc: 0.9273\n",
      "Epoch 13/15\n",
      "548864/566176 [============================>.] - ETA: 0s - loss: 9.5396 - acc: 0.9280Epoch 00012: val_loss did not improve\n",
      "566176/566176 [==============================] - 1s - loss: 9.5399 - acc: 0.9280 - val_loss: 1.5291 - val_acc: 0.9254\n",
      "Epoch 14/15\n",
      "557056/566176 [============================>.] - ETA: 0s - loss: 9.5305 - acc: 0.9285Epoch 00013: val_loss did not improve\n",
      "566176/566176 [==============================] - 1s - loss: 9.5335 - acc: 0.9285 - val_loss: 1.5513 - val_acc: 0.9239\n",
      "Epoch 15/15\n",
      "548864/566176 [============================>.] - ETA: 0s - loss: 9.5290 - acc: 0.9276Epoch 00014: val_loss did not improve\n",
      "566176/566176 [==============================] - 1s - loss: 9.5260 - acc: 0.9276 - val_loss: 1.5716 - val_acc: 0.9223\n"
     ]
    }
   ],
   "source": [
    "#Training\n",
    "train_params = [(15, 8192)]\n",
    "print(\"Start Time = \"+str(time))\n",
    "for (epochs, batch_size) in train_params:\n",
    "    time = time+1\n",
    "    print(\"train with {} epochs and {} batch size\".format(epochs, batch_size))\n",
    "    model_info = model_feedforward_nn.fit(x_train, y_train, epochs=epochs, batch_size=batch_size, verbose=verbose,\n",
    "                           callbacks=callbacks_list_feedforward_nn,class_weight=weight,\n",
    "                           validation_data=(x_val, y_val))"
   ]
  },
  {
   "cell_type": "code",
   "execution_count": 329,
   "metadata": {},
   "outputs": [
    {
     "data": {
      "text/html": [
       "\n",
       "                <audio controls=\"controls\" autoplay=\"autoplay\">\n",
       "                    <source src=\"./sound/JAZZ1.WAV\" type=\"audio/wav\" />\n",
       "                    Your browser does not support the audio element.\n",
       "                </audio>\n",
       "              "
      ],
      "text/plain": [
       "<IPython.lib.display.Audio object>"
      ]
     },
     "execution_count": 329,
     "metadata": {},
     "output_type": "execute_result"
    }
   ],
   "source": [
    "from IPython.display import Audio\n",
    "sound_file = './sound/JAZZ1.WAV'\n",
    "Audio(url=sound_file, autoplay=True)"
   ]
  },
  {
   "cell_type": "code",
   "execution_count": 169,
   "metadata": {},
   "outputs": [
    {
     "data": {
      "image/png": "[encoded data removed]",
      "text/plain": [
       "<matplotlib.figure.Figure at 0x1e1157a7630>"
      ]
     },
     "metadata": {},
     "output_type": "display_data"
    }
   ],
   "source": [
    "plot_model_history(model_info)"
   ]
  },
  {
   "cell_type": "markdown",
   "metadata": {},
   "source": [
    "## Evaluation"
   ]
  },
  {
   "cell_type": "code",
   "execution_count": 87,
   "metadata": {},
   "outputs": [
    {
     "name": "stdout",
     "output_type": "stream",
     "text": [
      "_________________________________________________________________\n",
      "Layer (type)                 Output Shape              Param #   \n",
      "=================================================================\n",
      "input_17 (InputLayer)        (None, 58)                0         \n",
      "_________________________________________________________________\n",
      "dense_35 (Dense)             (None, 30)                1770      \n",
      "_________________________________________________________________\n",
      "dense_36 (Dense)             (None, 70)                2170      \n",
      "_________________________________________________________________\n",
      "dense_37 (Dense)             (None, 1)                 71        \n",
      "=================================================================\n",
      "Total params: 4,011\n",
      "Trainable params: 4,011\n",
      "Non-trainable params: 0\n",
      "_________________________________________________________________\n"
     ]
    }
   ],
   "source": [
    "#Load best model\n",
    "weight_path_feedforward_nn='model/model_weight_feedforward_nn2.h5'\n",
    "model_feedforward_nn = get_feedforward_nn()\n",
    "model_feedforward_nn.load_weights(weight_path_feedforward_nn)\n",
    "model_feedforward_nn._make_predict_function()\n",
    "model_feedforward_nn.summary()"
   ]
  },
  {
   "cell_type": "code",
   "execution_count": 46,
   "metadata": {
    "collapsed": true
   },
   "outputs": [],
   "source": [
    "def gini(actual, pred):\n",
    "    assert (len(actual) == len(pred))\n",
    "    all = np.asarray(np.c_[actual, pred, np.arange(len(actual))], dtype=np.float)\n",
    "    all = all[np.lexsort((all[:, 2], -1 * all[:, 1]))]\n",
    "    totalLosses = all[:, 0].sum()\n",
    "    giniSum = all[:, 0].cumsum().sum() / totalLosses\n",
    "\n",
    "    giniSum -= (len(actual) + 1) / 2.\n",
    "    return giniSum / len(actual)\n",
    "\n",
    "\n",
    "def gini_normalized(actual, pred):\n",
    "    return gini(actual, pred) / gini(actual, actual)"
   ]
  },
  {
   "cell_type": "code",
   "execution_count": 170,
   "metadata": {
    "collapsed": true
   },
   "outputs": [],
   "source": [
    "pred = model_feedforward_nn.predict(x_val)\n",
    "#map probability to class\n",
    "prob_to_class = lambda p: 1 if p[0]>=0.5 else 0\n",
    "prob_trans = lambda p:p[0]\n",
    "y_prob = np.apply_along_axis(prob_trans,1,pred)\n",
    "y_pred = np.apply_along_axis(prob_to_class,1,pred)"
   ]
  },
  {
   "cell_type": "code",
   "execution_count": 171,
   "metadata": {},
   "outputs": [
    {
     "name": "stdout",
     "output_type": "stream",
     "text": [
      "94\n",
      "29760\n",
      "1410\n"
     ]
    }
   ],
   "source": [
    "print(np.sum(y_pred[np.equal(y_pred,y_val)]))\n",
    "print(y_val.shape[0])\n",
    "print(np.sum(y_pred))"
   ]
  },
  {
   "cell_type": "code",
   "execution_count": 172,
   "metadata": {},
   "outputs": [
    {
     "name": "stdout",
     "output_type": "stream",
     "text": [
      "Gini: 0.108, Max. Gini: 0.482, Normalized Gini: 0.225\n"
     ]
    }
   ],
   "source": [
    "actual = y_val\n",
    "predictions = y_prob\n",
    "gini_predictions = gini(actual, predictions)\n",
    "gini_max = gini(actual, actual)\n",
    "ngini= gini_normalized(actual, predictions)\n",
    "print('Gini: %.3f, Max. Gini: %.3f, Normalized Gini: %.3f' % (gini_predictions, gini_max, ngini))"
   ]
  },
  {
   "cell_type": "markdown",
   "metadata": {},
   "source": [
    "## Prediction"
   ]
  },
  {
   "cell_type": "code",
   "execution_count": 64,
   "metadata": {
    "collapsed": true
   },
   "outputs": [],
   "source": [
    "pred_test = model_feedforward_nn.predict(x_test)\n",
    "#map probability to class\n",
    "prob_to_class = lambda p: 1 if p[0]>=0.5 else 0\n",
    "prob_trans = lambda p:p[0]\n",
    "y_pred_test = np.apply_along_axis(prob_to_class,1,pred_test)\n",
    "y_prob_test = np.apply_along_axis(prob_trans,1,pred_test)"
   ]
  },
  {
   "cell_type": "code",
   "execution_count": 65,
   "metadata": {
    "collapsed": true
   },
   "outputs": [],
   "source": [
    "y_prob_test = np.apply_along_axis(prob_trans,1,pred_test)"
   ]
  },
  {
   "cell_type": "code",
   "execution_count": 337,
   "metadata": {},
   "outputs": [
    {
     "data": {
      "text/plain": [
       "(892816,)"
      ]
     },
     "execution_count": 337,
     "metadata": {},
     "output_type": "execute_result"
    }
   ],
   "source": [
    "y_pred_test.shape"
   ]
  },
  {
   "cell_type": "code",
   "execution_count": 338,
   "metadata": {},
   "outputs": [
    {
     "name": "stdout",
     "output_type": "stream",
     "text": [
      "37056\n"
     ]
    }
   ],
   "source": [
    "print(np.sum(y_pred_test))"
   ]
  },
  {
   "cell_type": "code",
   "execution_count": 66,
   "metadata": {
    "collapsed": true
   },
   "outputs": [],
   "source": [
    "result = pd.DataFrame({'id':df_test['id'],'target': y_prob_test})"
   ]
  },
  {
   "cell_type": "code",
   "execution_count": 340,
   "metadata": {},
   "outputs": [
    {
     "data": {
      "text/plain": [
       "array([ 0.26668322,  0.28009123,  0.22029935, ...,  0.23939545,\n",
       "        0.15864408,  0.27612022], dtype=float32)"
      ]
     },
     "execution_count": 340,
     "metadata": {},
     "output_type": "execute_result"
    }
   ],
   "source": [
    "y_prob_test"
   ]
  },
  {
   "cell_type": "code",
   "execution_count": 67,
   "metadata": {
    "collapsed": true
   },
   "outputs": [],
   "source": [
    "# result.to_csv('data/result_26-2.csv', index=False)"
   ]
  }
 ],
 "metadata": {
  "kernelspec": {
   "display_name": "Python 3",
   "language": "python",
   "name": "python3"
  },
  "language_info": {
   "codemirror_mode": {
    "name": "ipython",
    "version": 3
   },
   "file_extension": ".py",
   "mimetype": "text/x-python",
   "name": "python",
   "nbconvert_exporter": "python",
   "pygments_lexer": "ipython3",
   "version": "3.5.0"
  }
 },
 "nbformat": 4,
 "nbformat_minor": 2
}
