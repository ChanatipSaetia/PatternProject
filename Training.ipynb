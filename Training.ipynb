{
 "cells": [
  {
   "cell_type": "code",
   "execution_count": 94,
   "metadata": {
    "collapsed": true
   },
   "outputs": [],
   "source": [
    "import numpy as np\n",
    "import pandas as pd\n",
    "from sklearn.preprocessing import Imputer\n",
    "from sklearn.preprocessing import StandardScaler, MinMaxScaler\n",
    "from sklearn.preprocessing import OneHotEncoder\n",
    "from sklearn.model_selection import KFold\n",
    "from sklearn.pipeline import Pipeline, FeatureUnion\n",
    "from sklearn.linear_model import LogisticRegression\n",
    "from preprocessing import AutoEncoder\n",
    "from preprocessing import ItemSelector"
   ]
  },
  {
   "cell_type": "code",
   "execution_count": 2,
   "metadata": {
    "collapsed": true
   },
   "outputs": [],
   "source": [
    "import pandas as pd"
   ]
  },
  {
   "cell_type": "code",
   "execution_count": 3,
   "metadata": {
    "collapsed": true
   },
   "outputs": [],
   "source": [
    "df = pd.read_csv('data/train.csv')\n",
    "df = df.drop('id', axis=1)\n",
    "\n",
    "df_test = pd.read_csv('data/test.csv')\n",
    "df_test = df_test"
   ]
  },
  {
   "cell_type": "code",
   "execution_count": 5,
   "metadata": {},
   "outputs": [
    {
     "name": "stdout",
     "output_type": "stream",
     "text": [
      "target 0\n"
     ]
    }
   ],
   "source": [
    "maps_of_feature = { 'binary': [], 'nominal': [], 'interval': [], 'ordinal': []}\n",
    "for f, i in zip(df.columns, range(len(df.columns))):\n",
    "    # Defining the level\n",
    "    if 'bin' in f:\n",
    "        maps_of_feature['binary'].append(i-1)\n",
    "    elif f == 'target':\n",
    "        print(f, i)\n",
    "    elif 'cat' in f or f == 'id':\n",
    "        maps_of_feature['nominal'].append(i-1)\n",
    "    elif df[f].dtype == float:\n",
    "        maps_of_feature['interval'].append(i-1)\n",
    "    elif df[f].dtype == int:\n",
    "        maps_of_feature['ordinal'].append(i-1)"
   ]
  },
  {
   "cell_type": "code",
   "execution_count": 38,
   "metadata": {
    "collapsed": true
   },
   "outputs": [],
   "source": [
    "train = df.drop('target', axis=1).as_matrix()\n",
    "target = df['target'].as_matrix()\n",
    "test = df_test.drop('id', axis=1).as_matrix()"
   ]
  },
  {
   "cell_type": "code",
   "execution_count": 49,
   "metadata": {},
   "outputs": [],
   "source": [
    "PipelineForNumberic = Pipeline([\n",
    "                                ('select_numeric', ItemSelector(maps_of_feature['interval']))\n",
    "                                ,('replace_mean', Imputer(missing_values=-1, strategy='mean'))\n",
    "                               ])\n",
    "\n",
    "PipelineForOrdinal = Pipeline([\n",
    "                                ('select_numeric', ItemSelector(maps_of_feature['ordinal']))\n",
    "                                ,('replace_mean', Imputer(missing_values=-1, strategy='most_frequent'))\n",
    "                               ])\n",
    "\n",
    "PipelineForCategorical = Pipeline([\n",
    "                                ('select_categorical', ItemSelector(maps_of_feature['nominal'] + maps_of_feature['binary']))\n",
    "                                ,('replace_mode', Imputer(missing_values=-1, strategy='most_frequent'))\n",
    "                                ,('onehot', OneHotEncoder(sparse=False))\n",
    "                                ,('autoencoder', AutoEncoder(209).cuda())\n",
    "                               ])"
   ]
  },
  {
   "cell_type": "code",
   "execution_count": 50,
   "metadata": {
    "collapsed": true
   },
   "outputs": [],
   "source": [
    "data_preprocessing = Pipeline([\n",
    "            ('data_pre', FeatureUnion(\n",
    "                [\n",
    "                    ('numeric_preprocessing', PipelineForNumberic), \n",
    "                    ('ordinal_preprocessing', PipelineForOrdinal),\n",
    "                    ('categorical_preprocessing', PipelineForCategorical)\n",
    "                ])\n",
    "            )\n",
    "            ,('scaler', StandardScaler())\n",
    "])"
   ]
  },
  {
   "cell_type": "code",
   "execution_count": 51,
   "metadata": {
    "scrolled": true
   },
   "outputs": [
    {
     "name": "stdout",
     "output_type": "stream",
     "text": [
      "0.0461827\n",
      "0.0298381\n",
      "0.0190215\n",
      "0.0147346\n",
      "0.0124333\n",
      "0.0111777\n",
      "0.0105226\n",
      "0.00991962\n",
      "0.00947829\n",
      "0.00895393\n",
      "0.00864824\n",
      "0.00829739\n",
      "0.00803534\n",
      "0.00785614\n",
      "0.0076699\n",
      "0.00746025\n",
      "0.00743011\n",
      "0.0071934\n",
      "0.00698975\n",
      "0.00688393\n"
     ]
    }
   ],
   "source": [
    "preprocessed_data = data_preprocessing.fit_transform(train, target)"
   ]
  },
  {
   "cell_type": "code",
   "execution_count": 148,
   "metadata": {},
   "outputs": [],
   "source": [
    "preprocessed_data_test = data_preprocessing.transform(test)\n",
    "\n",
    "with open('data/Preprocessing/train.pickle', 'wb') as f:\n",
    "    pickle.dump(preprocessed_data, f)\n",
    "    \n",
    "with open('data/Preprocessing/test.pickle', 'wb') as f:\n",
    "    pickle.dump(preprocessed_data_test, f)"
   ]
  },
  {
   "cell_type": "code",
   "execution_count": 85,
   "metadata": {},
   "outputs": [
    {
     "name": "stdout",
     "output_type": "stream",
     "text": [
      "The autoreload extension is already loaded. To reload it, use:\n",
      "  %reload_ext autoreload\n"
     ]
    }
   ],
   "source": [
    "from model import NeuralNet\n",
    "\n",
    "%load_ext autoreload\n",
    "%autoreload 2"
   ]
  },
  {
   "cell_type": "code",
   "execution_count": 109,
   "metadata": {},
   "outputs": [],
   "source": [
    "model = LogisticRegression(class_weight='balanced')"
   ]
  },
  {
   "cell_type": "code",
   "execution_count": 110,
   "metadata": {
    "scrolled": true
   },
   "outputs": [
    {
     "data": {
      "text/plain": [
       "LogisticRegression(C=1.0, class_weight='balanced', dual=False,\n",
       "          fit_intercept=True, intercept_scaling=1, max_iter=100,\n",
       "          multi_class='ovr', n_jobs=1, penalty='l2', random_state=None,\n",
       "          solver='liblinear', tol=0.0001, verbose=0, warm_start=False)"
      ]
     },
     "execution_count": 110,
     "metadata": {},
     "output_type": "execute_result"
    }
   ],
   "source": [
    "model.fit(preprocessed_data, target)"
   ]
  },
  {
   "cell_type": "code",
   "execution_count": 149,
   "metadata": {},
   "outputs": [],
   "source": [
    "pred = model.predict(preprocessed_data)"
   ]
  },
  {
   "cell_type": "code",
   "execution_count": 150,
   "metadata": {
    "scrolled": false
   },
   "outputs": [
    {
     "name": "stdout",
     "output_type": "stream",
     "text": [
      "12110\n",
      "21694\n",
      "232886\n"
     ]
    }
   ],
   "source": [
    "print(np.sum(pred[pred == target] == 1))\n",
    "print(np.sum(target))\n",
    "print(np.sum(pred))"
   ]
  },
  {
   "cell_type": "code",
   "execution_count": 151,
   "metadata": {
    "collapsed": true
   },
   "outputs": [],
   "source": [
    "pred_test = model.predict_proba(preprocessed_data_test)"
   ]
  },
  {
   "cell_type": "code",
   "execution_count": 152,
   "metadata": {},
   "outputs": [
    {
     "data": {
      "text/plain": [
       "(892816, 2)"
      ]
     },
     "execution_count": 152,
     "metadata": {},
     "output_type": "execute_result"
    }
   ],
   "source": [
    "pred_test.shape"
   ]
  },
  {
   "cell_type": "code",
   "execution_count": 161,
   "metadata": {},
   "outputs": [],
   "source": [
    "result = pd.DataFrame({'id':df_test['id'],'target': pred_test[:,1]})"
   ]
  },
  {
   "cell_type": "code",
   "execution_count": 163,
   "metadata": {},
   "outputs": [],
   "source": [
    "result.to_csv('data/result.csv', index=False)"
   ]
  },
  {
   "cell_type": "code",
   "execution_count": null,
   "metadata": {
    "collapsed": true
   },
   "outputs": [],
   "source": []
  }
 ],
 "metadata": {
  "kernelspec": {
   "display_name": "Python 3",
   "language": "python",
   "name": "python3"
  },
  "language_info": {
   "codemirror_mode": {
    "name": "ipython",
    "version": 3
   },
   "file_extension": ".py",
   "mimetype": "text/x-python",
   "name": "python",
   "nbconvert_exporter": "python",
   "pygments_lexer": "ipython3",
   "version": "3.6.1"
  }
 },
 "nbformat": 4,
 "nbformat_minor": 2
}
