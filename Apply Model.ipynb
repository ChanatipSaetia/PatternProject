{
 "cells": [
  {
   "cell_type": "markdown",
   "metadata": {},
   "source": [
    "# Load Data"
   ]
  },
  {
   "cell_type": "code",
   "execution_count": 1,
   "metadata": {
    "collapsed": true
   },
   "outputs": [],
   "source": [
    "import pickle\n",
    "import pandas as pd\n",
    "from sklearn.model_selection import train_test_split\n",
    "import numpy as np"
   ]
  },
  {
   "cell_type": "code",
   "execution_count": 2,
   "metadata": {},
   "outputs": [],
   "source": [
    "with open('input/Preprocessing/train.pickle', 'rb') as f:\n",
    "    train = pickle.load(f)\n",
    "    f.close()\n",
    "target = pd.read_csv(\"input/train.csv\")['target'].as_matrix()"
   ]
  },
  {
   "cell_type": "code",
   "execution_count": 3,
   "metadata": {},
   "outputs": [
    {
     "name": "stdout",
     "output_type": "stream",
     "text": [
      "(595212, 58)\n",
      "(595212,)\n"
     ]
    }
   ],
   "source": [
    "print(train.shape)\n",
    "print(target.shape)"
   ]
  },
  {
   "cell_type": "code",
   "execution_count": 4,
   "metadata": {},
   "outputs": [],
   "source": [
    "x_train, x_validate, y_train, y_validate = train_test_split(train, target, test_size=0.2, random_state=12345)"
   ]
  },
  {
   "cell_type": "markdown",
   "metadata": {},
   "source": [
    "# Model"
   ]
  },
  {
   "cell_type": "code",
   "execution_count": 5,
   "metadata": {},
   "outputs": [],
   "source": [
    "import torch\n",
    "import torch.nn as nn\n",
    "from torch.autograd import Variable\n",
    "from torch import FloatTensor\n",
    "import torch.nn.functional as F"
   ]
  },
  {
   "cell_type": "code",
   "execution_count": 6,
   "metadata": {
    "collapsed": true
   },
   "outputs": [],
   "source": [
    "from torch.optim import Adam"
   ]
  },
  {
   "cell_type": "code",
   "execution_count": 7,
   "metadata": {},
   "outputs": [],
   "source": [
    "def gini(actual, pred):\n",
    "    assert (len(actual) == len(pred))\n",
    "    all = np.asarray(np.c_[actual, pred, np.arange(len(actual))], dtype=np.float)\n",
    "    all = all[np.lexsort((all[:, 2], -1 * all[:, 1]))]\n",
    "    totalLosses = all[:, 0].sum()\n",
    "    giniSum = all[:, 0].cumsum().sum() / totalLosses\n",
    "\n",
    "    giniSum -= (len(actual) + 1) / 2.\n",
    "    return giniSum / len(actual)\n",
    "\n",
    "\n",
    "def gini_normalized(actual, pred):\n",
    "    return gini(actual, pred) / gini(actual, actual)"
   ]
  },
  {
   "cell_type": "code",
   "execution_count": 8,
   "metadata": {},
   "outputs": [],
   "source": [
    "from torch.utils.data import Dataset, DataLoader\n",
    "class OurDataset(Dataset):\n",
    "    \n",
    "    def __init__(self, datas, labels):\n",
    "        self.datas = datas\n",
    "        self.labels = labels\n",
    "    \n",
    "    def __len__(self):\n",
    "        return self.datas.size()[0]\n",
    "    \n",
    "    def __getitem__(self, idx):\n",
    "        return {'data': self.datas[idx], 'label': self.labels[idx]}"
   ]
  },
  {
   "cell_type": "code",
   "execution_count": 22,
   "metadata": {},
   "outputs": [],
   "source": [
    "class WeightedModel(nn.Module):\n",
    "    \n",
    "    def __init__(self, hidden_node, input_shape):\n",
    "        super(WeightedModel, self).__init__()\n",
    "        self.dense = []\n",
    "        self.dropout = []\n",
    "        prev_layer = input_shape\n",
    "        for layer in hidden_node:\n",
    "            self.dense.append(nn.Linear(prev_layer, layer))\n",
    "            self.dropout.append(nn.Dropout(0.3))\n",
    "            prev_layer = layer\n",
    "        self.logit = nn.Linear(prev_layer, 1)\n",
    "        self.optimizer = Adam(self.parameters(), lr=0.01)\n",
    "        \n",
    "    def forward(self, x):\n",
    "        for d, drop in zip(self.dense, self.dropout):\n",
    "            x = F.relu(d(x))\n",
    "            x = drop(x)\n",
    "        x = F.sigmoid(self.logit(x))\n",
    "        return x\n",
    "    \n",
    "    def train_model(self, x, y, x_validate, y_validate, epochs=100, batch_size=512):\n",
    "        dataset = OurDataset(x, y)\n",
    "        dataloader = DataLoader(dataset, batch_size=batch_size,\n",
    "                        shuffle=True, num_workers=4)\n",
    "        \n",
    "        for i in range(epochs):\n",
    "            sum_loss = 0\n",
    "            c = 0\n",
    "            for i_batch, sample_batch in enumerate(dataloader):\n",
    "                data = Variable(sample_batch['data'])\n",
    "                label = Variable(sample_batch['label'].float())\n",
    "                self.train()\n",
    "                output = self(data)\n",
    "                self.optimizer.zero_grad()\n",
    "                loss_function = nn.BCELoss(weight=FloatTensor([33]))\n",
    "                loss = loss_function(output, label)\n",
    "                sum_loss = sum_loss + loss.data.numpy()[0]\n",
    "                loss.backward()\n",
    "                self.optimizer.step()\n",
    "                c = c + 1\n",
    "            print(sum_loss / c)\n",
    "            \n",
    "            self.eval()\n",
    "            output_validate = self.predict(x_validate)\n",
    "            actual = y_validate.data.numpy()\n",
    "            pred = output_validate.data.numpy()\n",
    "            score = gini_normalized(actual, pred)\n",
    "            print(score)\n",
    "            \n",
    "    def predict(self, x, threshold=0.5) :\n",
    "        return self(x)\n",
    "    \n",
    "#     @static_method\n",
    "#     def class_weight(y):\n",
    "        "
   ]
  },
  {
   "cell_type": "code",
   "execution_count": 23,
   "metadata": {},
   "outputs": [],
   "source": [
    "x_train_torch = FloatTensor(x_train)\n",
    "x_validate_torch = Variable(FloatTensor(x_validate))\n",
    "y_train_torch = FloatTensor(y_train.astype(float))\n",
    "y_validate_torch = Variable(FloatTensor(y_validate.astype(float)))"
   ]
  },
  {
   "cell_type": "code",
   "execution_count": 24,
   "metadata": {},
   "outputs": [],
   "source": [
    "torch.manual_seed(12345)\n",
    "model = WeightedModel([70], x_train.shape[1])"
   ]
  },
  {
   "cell_type": "code",
   "execution_count": 25,
   "metadata": {},
   "outputs": [
    {
     "name": "stderr",
     "output_type": "stream",
     "text": [
      "/home/chanatip/anaconda3/lib/python3.6/site-packages/torch/nn/functional.py:767: UserWarning: Using a target size (torch.Size([512])) that is different to the input size (torch.Size([512, 1])) is deprecated. Please ensure they have the same size.\n",
      "  \"Please ensure they have the same size.\".format(target.size(), input.size()))\n",
      "/home/chanatip/anaconda3/lib/python3.6/site-packages/torch/nn/functional.py:767: UserWarning: Using a target size (torch.Size([9])) that is different to the input size (torch.Size([9, 1])) is deprecated. Please ensure they have the same size.\n",
      "  \"Please ensure they have the same size.\".format(target.size(), input.size()))\n"
     ]
    },
    {
     "name": "stdout",
     "output_type": "stream",
     "text": [
      "5.95106322681\n",
      "0.0111180476459\n",
      "5.27209991722\n",
      "0.0853381308602\n",
      "5.18881504159\n",
      "0.128526663227\n",
      "5.15891350148\n",
      "0.115015402552\n",
      "5.15965202031\n",
      "0.115439799573\n",
      "5.14437878503\n",
      "0.120313303622\n",
      "5.16981314768\n",
      "0.117702711084\n",
      "5.141806551\n",
      "0.118386368367\n",
      "5.14377049089\n",
      "0.118692645891\n",
      "5.14243130538\n",
      "0.124766904086\n",
      "5.14565875758\n",
      "0.116442773834\n",
      "5.15654669131\n",
      "0.118767072701\n",
      "5.14267240303\n",
      "0.129392302593\n",
      "5.15562756105\n",
      "0.127949610761\n",
      "5.14571286029\n",
      "0.125257820927\n",
      "5.1433692707\n",
      "0.109451037972\n",
      "5.14377961225\n",
      "0.108632533159\n",
      "5.14343139872\n",
      "0.125354896913\n",
      "5.14231515814\n",
      "0.114713610373\n",
      "5.15713743441\n",
      "0.116525698129\n",
      "5.15786590279\n",
      "0.119607494637\n",
      "5.17272284899\n",
      "0.120642096854\n",
      "5.14472978443\n",
      "0.109177290327\n",
      "5.1440327567\n",
      "0.134060463552\n",
      "5.14221365713\n",
      "0.13543746873\n",
      "5.16963498088\n",
      "0.123675901376\n",
      "5.15614884317\n",
      "0.111327214807\n",
      "5.15787639731\n",
      "0.12718008479\n",
      "5.14469551784\n",
      "0.123370469151\n",
      "5.15676122987\n",
      "0.118821305344\n"
     ]
    }
   ],
   "source": [
    "model.train_model(x_train_torch, y_train_torch, x_validate_torch, y_validate_torch, epochs=30)"
   ]
  },
  {
   "cell_type": "code",
   "execution_count": 26,
   "metadata": {},
   "outputs": [
    {
     "name": "stderr",
     "output_type": "stream",
     "text": [
      "/home/chanatip/anaconda3/lib/python3.6/site-packages/torch/nn/functional.py:767: UserWarning: Using a target size (torch.Size([10000])) that is different to the input size (torch.Size([10000, 1])) is deprecated. Please ensure they have the same size.\n",
      "  \"Please ensure they have the same size.\".format(target.size(), input.size()))\n",
      "/home/chanatip/anaconda3/lib/python3.6/site-packages/torch/nn/functional.py:767: UserWarning: Using a target size (torch.Size([6169])) that is different to the input size (torch.Size([6169, 1])) is deprecated. Please ensure they have the same size.\n",
      "  \"Please ensure they have the same size.\".format(target.size(), input.size()))\n"
     ]
    },
    {
     "name": "stdout",
     "output_type": "stream",
     "text": [
      "5.1479121844\n",
      "0.124404958123\n",
      "5.14720972379\n",
      "0.117916033964\n",
      "5.14444720745\n",
      "0.127140238419\n",
      "5.14042995373\n",
      "0.124004310381\n",
      "5.14420353373\n",
      "0.126242768871\n",
      "5.14034452041\n",
      "0.12038662224\n",
      "5.13948462407\n",
      "0.125906121229\n",
      "5.14062483112\n",
      "0.12824703084\n",
      "5.14788039525\n",
      "0.124379004594\n",
      "5.14169085026\n",
      "0.126965038955\n"
     ]
    }
   ],
   "source": [
    "model.train_model(x_train_torch, y_train_torch, x_validate_torch, y_validate_torch, epochs=10, batch_size=10000)"
   ]
  },
  {
   "cell_type": "code",
   "execution_count": 27,
   "metadata": {},
   "outputs": [
    {
     "name": "stderr",
     "output_type": "stream",
     "text": [
      "/home/chanatip/anaconda3/lib/python3.6/site-packages/torch/nn/functional.py:767: UserWarning: Using a target size (torch.Size([400000])) that is different to the input size (torch.Size([400000, 1])) is deprecated. Please ensure they have the same size.\n",
      "  \"Please ensure they have the same size.\".format(target.size(), input.size()))\n",
      "/home/chanatip/anaconda3/lib/python3.6/site-packages/torch/nn/functional.py:767: UserWarning: Using a target size (torch.Size([76169])) that is different to the input size (torch.Size([76169, 1])) is deprecated. Please ensure they have the same size.\n",
      "  \"Please ensure they have the same size.\".format(target.size(), input.size()))\n"
     ]
    },
    {
     "name": "stdout",
     "output_type": "stream",
     "text": [
      "5.17882966995\n",
      "0.123739444448\n",
      "5.12894558907\n",
      "0.129611093631\n",
      "5.16650247574\n",
      "0.123783371715\n",
      "5.1676633358\n",
      "0.131906951604\n",
      "5.11590456963\n",
      "0.128806615129\n",
      "5.14883542061\n",
      "0.128270056154\n",
      "5.10571813583\n",
      "0.125129205965\n",
      "5.1561229229\n",
      "0.113605810873\n",
      "5.14143013954\n",
      "0.122088056639\n",
      "5.14145493507\n",
      "0.115360389944\n"
     ]
    }
   ],
   "source": [
    "model.train_model(x_train_torch, y_train_torch, x_validate_torch, y_validate_torch, epochs=10, batch_size=400000)"
   ]
  },
  {
   "cell_type": "code",
   "execution_count": null,
   "metadata": {
    "collapsed": true
   },
   "outputs": [],
   "source": []
  }
 ],
 "metadata": {
  "kernelspec": {
   "display_name": "Python 3",
   "language": "python",
   "name": "python3"
  },
  "language_info": {
   "codemirror_mode": {
    "name": "ipython",
    "version": 3
   },
   "file_extension": ".py",
   "mimetype": "text/x-python",
   "name": "python",
   "nbconvert_exporter": "python",
   "pygments_lexer": "ipython3",
   "version": "3.6.1"
  }
 },
 "nbformat": 4,
 "nbformat_minor": 2
}
